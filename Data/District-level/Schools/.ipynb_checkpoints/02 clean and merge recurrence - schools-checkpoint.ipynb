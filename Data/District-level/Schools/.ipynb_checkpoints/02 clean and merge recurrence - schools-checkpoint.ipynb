{
 "cells": [
  {
   "cell_type": "code",
   "execution_count": 1,
   "metadata": {},
   "outputs": [],
   "source": [
    "import pandas as pd\n",
    "from os import listdir\n",
    "from os.path import isfile, join\n",
    "import pathlib\n",
    "import sys\n",
    "\n",
    "# insert at 1, 0 is the script path (or '' in REPL)\n",
    "path_mod = '/Users/srilakshmi/Desktop/Thesis/Data/District-level/'\n",
    "sys.path.insert(1, path_mod)\n",
    "\n",
    "import clean\n"
   ]
  },
  {
   "cell_type": "code",
   "execution_count": 7,
   "metadata": {},
   "outputs": [],
   "source": [
    "# file paths and file names\n",
    "path_input = '/Users/srilakshmi/Desktop/Thesis/Data/District-level/Schools/Data-Recurrence/'\n",
    "path_output = '/Users/srilakshmi/Desktop/Thesis/Data/District-level/Schools/Output/'\n",
    "name_output_file = 'District-level_Schools_Recurrence.csv'\n",
    "\n",
    "col_name_old = 'Schools Impacted'\n",
    "\n",
    "recur_left = 43\n",
    "recur_right = 49\n"
   ]
  },
  {
   "cell_type": "code",
   "execution_count": 8,
   "metadata": {},
   "outputs": [],
   "source": [
    "# # data cleaning functions\n",
    "\n",
    "# def clean_csv_recurrence(string):\n",
    "    \n",
    "#     df = pd.read_csv(name_folder_input+string, header=0)\n",
    "#     df = df.drop_duplicates()\n",
    "#     df = df.rename(columns={col_name_old: string[43:49]})\n",
    "#     df = df.sort_values(by=['Region'])\n",
    "\n",
    "#     return df\n",
    "\n",
    "# def special_merge(left,right):\n",
    "#     merged = left.set_index('Region').join(right.set_index('Region')) # merged file 0 and file 1 together    \n",
    "#     merged.index.name = 'Region'\n",
    "#     merged.reset_index(inplace=True)\n",
    "    \n",
    "#     return merged\n"
   ]
  },
  {
   "cell_type": "code",
   "execution_count": 9,
   "metadata": {},
   "outputs": [
    {
     "data": {
      "text/plain": [
       "['Schools Impacted in Ghana Ghana_Recurrence_02Year.csv',\n",
       " 'Schools Impacted in Ghana Ghana_Recurrence_05Year.csv',\n",
       " 'Schools Impacted in Ghana Ghana_Recurrence_10Year.csv',\n",
       " 'Schools Impacted in Ghana Ghana_Recurrence_15Year.csv',\n",
       " 'Schools Impacted in Ghana Ghana_Recurrence_20Year.csv']"
      ]
     },
     "execution_count": 9,
     "metadata": {},
     "output_type": "execute_result"
    }
   ],
   "source": [
    "# get list of file names\n",
    "files = [f for f in listdir(path_input) if isfile(join(path_input, f))]\n",
    "files.sort(reverse = False)\n",
    "files=files[1:]\n",
    "files"
   ]
  },
  {
   "cell_type": "code",
   "execution_count": 10,
   "metadata": {},
   "outputs": [
    {
     "data": {
      "text/plain": [
       "['Schools Impacted in Ghana Ghana_Recurrence_05Year.csv',\n",
       " 'Schools Impacted in Ghana Ghana_Recurrence_10Year.csv',\n",
       " 'Schools Impacted in Ghana Ghana_Recurrence_15Year.csv',\n",
       " 'Schools Impacted in Ghana Ghana_Recurrence_20Year.csv']"
      ]
     },
     "execution_count": 10,
     "metadata": {},
     "output_type": "execute_result"
    }
   ],
   "source": [
    "files = files[1:]\n",
    "files"
   ]
  },
  {
   "cell_type": "code",
   "execution_count": 12,
   "metadata": {},
   "outputs": [
    {
     "ename": "IndexError",
     "evalue": "list index out of range",
     "output_type": "error",
     "traceback": [
      "\u001b[0;31m---------------------------------------------------------------------------\u001b[0m",
      "\u001b[0;31mIndexError\u001b[0m                                Traceback (most recent call last)",
      "\u001b[0;32m<ipython-input-12-4f2b83daf701>\u001b[0m in \u001b[0;36m<module>\u001b[0;34m\u001b[0m\n\u001b[1;32m      6\u001b[0m \u001b[0;34m\u001b[0m\u001b[0m\n\u001b[1;32m      7\u001b[0m \u001b[0;32mfor\u001b[0m \u001b[0mi\u001b[0m \u001b[0;32min\u001b[0m \u001b[0mrange\u001b[0m\u001b[0;34m(\u001b[0m\u001b[0;36m2\u001b[0m\u001b[0;34m,\u001b[0m \u001b[0;36m5\u001b[0m\u001b[0;34m)\u001b[0m\u001b[0;34m:\u001b[0m\u001b[0;34m\u001b[0m\u001b[0;34m\u001b[0m\u001b[0m\n\u001b[0;32m----> 8\u001b[0;31m     \u001b[0mz\u001b[0m \u001b[0;34m=\u001b[0m \u001b[0mclean\u001b[0m\u001b[0;34m.\u001b[0m\u001b[0mclean_csv_recurrence\u001b[0m\u001b[0;34m(\u001b[0m\u001b[0mpath_input\u001b[0m\u001b[0;34m,\u001b[0m \u001b[0mfiles\u001b[0m\u001b[0;34m[\u001b[0m\u001b[0mi\u001b[0m\u001b[0;34m]\u001b[0m\u001b[0;34m,\u001b[0m \u001b[0mcol_name_old\u001b[0m\u001b[0;34m,\u001b[0m \u001b[0mrecur_left\u001b[0m\u001b[0;34m,\u001b[0m \u001b[0mrecur_right\u001b[0m\u001b[0;34m)\u001b[0m\u001b[0;34m\u001b[0m\u001b[0;34m\u001b[0m\u001b[0m\n\u001b[0m\u001b[1;32m      9\u001b[0m     \u001b[0mmerged\u001b[0m \u001b[0;34m=\u001b[0m \u001b[0mclean\u001b[0m\u001b[0;34m.\u001b[0m\u001b[0mspecial_merge\u001b[0m\u001b[0;34m(\u001b[0m\u001b[0mleft\u001b[0m \u001b[0;34m=\u001b[0m \u001b[0mmerged\u001b[0m\u001b[0;34m,\u001b[0m \u001b[0mright\u001b[0m \u001b[0;34m=\u001b[0m \u001b[0mz\u001b[0m\u001b[0;34m)\u001b[0m\u001b[0;34m\u001b[0m\u001b[0;34m\u001b[0m\u001b[0m\n\u001b[1;32m     10\u001b[0m     \u001b[0mi\u001b[0m \u001b[0;34m+=\u001b[0m \u001b[0;36m1\u001b[0m\u001b[0;34m\u001b[0m\u001b[0;34m\u001b[0m\u001b[0m\n",
      "\u001b[0;31mIndexError\u001b[0m: list index out of range"
     ]
    }
   ],
   "source": [
    "# merge files\n",
    "for i in range(0, 1):\n",
    "    x = clean.clean_csv_recurrence(path_input, files[i], col_name_old, recur_left, recur_right)\n",
    "    y = clean.clean_csv_recurrence(path_input, files[i+1], col_name_old, recur_left, recur_right)\n",
    "    merged = clean.special_merge(left = x, right = y)\n",
    "    \n",
    "for i in range(2, 5):\n",
    "    z = clean.clean_csv_recurrence(path_input, files[i], col_name_old, recur_left, recur_right)\n",
    "    merged = clean.special_merge(left = merged, right = z)\n",
    "    i += 1\n",
    "\n",
    "merged"
   ]
  },
  {
   "cell_type": "code",
   "execution_count": 24,
   "metadata": {},
   "outputs": [],
   "source": [
    "# save file to disk\n",
    "\n",
    "merged.to_csv(path_output+name_output_file, index = False, header=True)\n"
   ]
  },
  {
   "cell_type": "code",
   "execution_count": null,
   "metadata": {},
   "outputs": [],
   "source": []
  }
 ],
 "metadata": {
  "kernelspec": {
   "display_name": "Python 3",
   "language": "python",
   "name": "python3"
  },
  "language_info": {
   "codemirror_mode": {
    "name": "ipython",
    "version": 3
   },
   "file_extension": ".py",
   "mimetype": "text/x-python",
   "name": "python",
   "nbconvert_exporter": "python",
   "pygments_lexer": "ipython3",
   "version": "3.7.8"
  }
 },
 "nbformat": 4,
 "nbformat_minor": 4
}
