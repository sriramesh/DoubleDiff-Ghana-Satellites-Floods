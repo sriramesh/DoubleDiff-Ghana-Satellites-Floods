{
 "cells": [
  {
   "cell_type": "code",
   "execution_count": 1,
   "metadata": {},
   "outputs": [],
   "source": [
    "import pandas as pd\n",
    "from os import listdir\n",
    "from os.path import isfile, join\n",
    "import pathlib\n"
   ]
  },
  {
   "cell_type": "code",
   "execution_count": 2,
   "metadata": {},
   "outputs": [],
   "source": [
    "# file paths and names\n",
    "path_input = '/Users/srilakshmi/Desktop/Thesis/Data/District-level/People/Data-Total-Pop/'\n",
    "name_input_file = 'Impacts-Ghana_MaxFlood_20200715_20201014.csv'\n",
    "\n",
    "path_output = '/Users/srilakshmi/Desktop/Thesis/Data/District-level/People/Output/'\n",
    "name_output_file = 'Perc_Flooded_Total_NRT.csv'\n"
   ]
  },
  {
   "cell_type": "code",
   "execution_count": 3,
   "metadata": {},
   "outputs": [
    {
     "data": {
      "text/html": [
       "<div>\n",
       "<style scoped>\n",
       "    .dataframe tbody tr th:only-of-type {\n",
       "        vertical-align: middle;\n",
       "    }\n",
       "\n",
       "    .dataframe tbody tr th {\n",
       "        vertical-align: top;\n",
       "    }\n",
       "\n",
       "    .dataframe thead th {\n",
       "        text-align: right;\n",
       "    }\n",
       "</style>\n",
       "<table border=\"1\" class=\"dataframe\">\n",
       "  <thead>\n",
       "    <tr style=\"text-align: right;\">\n",
       "      <th></th>\n",
       "      <th>Region</th>\n",
       "      <th>Perc Flooded</th>\n",
       "    </tr>\n",
       "  </thead>\n",
       "  <tbody>\n",
       "    <tr>\n",
       "      <th>2</th>\n",
       "      <td>Agona West</td>\n",
       "      <td>0.052515</td>\n",
       "    </tr>\n",
       "    <tr>\n",
       "      <th>3</th>\n",
       "      <td>Komenda Edna Eguafo / Abirem</td>\n",
       "      <td>0.035029</td>\n",
       "    </tr>\n",
       "    <tr>\n",
       "      <th>7</th>\n",
       "      <td>Gonja Central</td>\n",
       "      <td>0.025552</td>\n",
       "    </tr>\n",
       "    <tr>\n",
       "      <th>0</th>\n",
       "      <td>La Dade Kotopon</td>\n",
       "      <td>0.020046</td>\n",
       "    </tr>\n",
       "    <tr>\n",
       "      <th>8</th>\n",
       "      <td>Karaga</td>\n",
       "      <td>0.018817</td>\n",
       "    </tr>\n",
       "    <tr>\n",
       "      <th>...</th>\n",
       "      <td>...</td>\n",
       "      <td>...</td>\n",
       "    </tr>\n",
       "    <tr>\n",
       "      <th>199</th>\n",
       "      <td>Jaman North</td>\n",
       "      <td>0.000000</td>\n",
       "    </tr>\n",
       "    <tr>\n",
       "      <th>198</th>\n",
       "      <td>Jaman South</td>\n",
       "      <td>0.000000</td>\n",
       "    </tr>\n",
       "    <tr>\n",
       "      <th>197</th>\n",
       "      <td>Dormaa West</td>\n",
       "      <td>0.000000</td>\n",
       "    </tr>\n",
       "    <tr>\n",
       "      <th>196</th>\n",
       "      <td>Kadjebi</td>\n",
       "      <td>0.000000</td>\n",
       "    </tr>\n",
       "    <tr>\n",
       "      <th>215</th>\n",
       "      <td>Bia East</td>\n",
       "      <td>0.000000</td>\n",
       "    </tr>\n",
       "  </tbody>\n",
       "</table>\n",
       "<p>216 rows × 2 columns</p>\n",
       "</div>"
      ],
      "text/plain": [
       "                           Region  Perc Flooded\n",
       "2                      Agona West      0.052515\n",
       "3    Komenda Edna Eguafo / Abirem      0.035029\n",
       "7                   Gonja Central      0.025552\n",
       "0                 La Dade Kotopon      0.020046\n",
       "8                          Karaga      0.018817\n",
       "..                            ...           ...\n",
       "199                   Jaman North      0.000000\n",
       "198                   Jaman South      0.000000\n",
       "197                   Dormaa West      0.000000\n",
       "196                       Kadjebi      0.000000\n",
       "215                      Bia East      0.000000\n",
       "\n",
       "[216 rows x 2 columns]"
      ]
     },
     "execution_count": 3,
     "metadata": {},
     "output_type": "execute_result"
    }
   ],
   "source": [
    "tot_pop = pd.read_csv(path_input+name_input_file, header=0)\n",
    "\n",
    "colnames = []\n",
    "for col in tot_pop.columns:\n",
    "    colnames.append(col)\n",
    "\n",
    "tot_pop = tot_pop.dropna(subset=[colnames[2]])\n",
    "tot_pop = tot_pop[[colnames[1], colnames[2], colnames[6]]]\n",
    "tot_pop = tot_pop.rename(columns={colnames[1]: \"Region\", colnames[2]: \"Total Pop\", colnames[6]: \"Flooded Pop\"})\n",
    "tot_pop['Perc Flooded'] = list(tot_pop['Flooded Pop']/tot_pop['Total Pop'])\n",
    "\n",
    "tot_pop = tot_pop.drop(columns=['Total Pop', 'Flooded Pop'])\n",
    "tot_pop = tot_pop.sort_values(by=['Perc Flooded'], ascending=False)\n",
    "\n",
    "tot_pop\n"
   ]
  },
  {
   "cell_type": "code",
   "execution_count": 4,
   "metadata": {},
   "outputs": [],
   "source": [
    "# save file to disk\n",
    "\n",
    "tot_pop.to_csv(path_output+name_output_file, index = False, header=True)\n"
   ]
  },
  {
   "cell_type": "code",
   "execution_count": null,
   "metadata": {},
   "outputs": [],
   "source": []
  }
 ],
 "metadata": {
  "kernelspec": {
   "display_name": "Python 3",
   "language": "python",
   "name": "python3"
  },
  "language_info": {
   "codemirror_mode": {
    "name": "ipython",
    "version": 3
   },
   "file_extension": ".py",
   "mimetype": "text/x-python",
   "name": "python",
   "nbconvert_exporter": "python",
   "pygments_lexer": "ipython3",
   "version": "3.7.8"
  }
 },
 "nbformat": 4,
 "nbformat_minor": 4
}
