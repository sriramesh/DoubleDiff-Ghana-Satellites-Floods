{
 "cells": [
  {
   "cell_type": "markdown",
   "metadata": {},
   "source": [
    "## In this notebook, I will:\n",
    "\n",
    "* Examine parallel trends in a few years worth of recurrence data prior to the program year (August 2019)\n",
    "* See if the 202 treatment and control Adm 2 districts have the same trajectory in terms of % flooded cropland\n"
   ]
  },
  {
   "cell_type": "markdown",
   "metadata": {},
   "source": [
    "* You would need to first split the 161 municipalities between those that are flood prone and those that are not at risk of flooding. You would use for this long term data on flooding at the municipal level.\n",
    "\n",
    "* The flood group prone will be your T group. The others your C group. Validity of C as a conterfactual to T would be established by testing for parallel trends in the wealth and food indicators between the two group before introduction of flood warning in August 2019.\n",
    "\n",
    "* Impact would be measured by double difference between the last observation before introduction of the scheme (July  2019) and the last observation under the scheme (October 2020).\n",
    "\n",
    "* The program is active during the rainy season every year, namely July/Aug to Oct/Nov. You observe 2019 and 2020. There will be similar observations for the 2021 rainy season.\n",
    "\n",
    "If the test of parallel trends is not satisfied, there is a way of constructing a counterfactual with a \"synthetic\" method. But we can explore this later according to the results of the parallel rends test.\n",
    "Does this look OK to you?\n"
   ]
  },
  {
   "cell_type": "code",
   "execution_count": 2,
   "metadata": {},
   "outputs": [],
   "source": [
    "import pandas as pd\n",
    "\n",
    "## load TC assignment\n",
    "path_input = '/Users/srilakshmi/Desktop/Thesis/04-Data-Analysis-Results/01-TC-Assignment/'\n",
    "name_input_file = 'Final_Adm2_TC_Assignment.csv'\n",
    "tc_df = pd.read_csv(path_input+name_input_file)\n",
    "\n",
    "## load people recurrence\n",
    "path_input = '/Users/srilakshmi/Desktop/Thesis/04-Data-Analysis-Results/00-Data-Sources/00-Cloud-to-Street/01-District-level/People/Output/'\n",
    "name_input_file = 'District-level_People_Recurrence.csv'\n",
    "recurrence = pd.read_csv(path_input+name_input_file)\n",
    "\n",
    "## output files\n",
    "# path_output = '/Users/srilakshmi/Desktop/Thesis/04-Data-Analysis-Results/02-Parallel-Trends-Analysis/'\n",
    "# name_output_file = 'Final_Endline_Data.csv'\n"
   ]
  },
  {
   "cell_type": "code",
   "execution_count": 2,
   "metadata": {},
   "outputs": [
    {
     "data": {
      "text/html": [
       "<div>\n",
       "<style scoped>\n",
       "    .dataframe tbody tr th:only-of-type {\n",
       "        vertical-align: middle;\n",
       "    }\n",
       "\n",
       "    .dataframe tbody tr th {\n",
       "        vertical-align: top;\n",
       "    }\n",
       "\n",
       "    .dataframe thead th {\n",
       "        text-align: right;\n",
       "    }\n",
       "</style>\n",
       "<table border=\"1\" class=\"dataframe\">\n",
       "  <thead>\n",
       "    <tr style=\"text-align: right;\">\n",
       "      <th></th>\n",
       "      <th>Region</th>\n",
       "      <th>Treatment</th>\n",
       "      <th>02Year</th>\n",
       "      <th>05Year</th>\n",
       "      <th>10Year</th>\n",
       "      <th>15Year</th>\n",
       "      <th>20Year</th>\n",
       "    </tr>\n",
       "  </thead>\n",
       "  <tbody>\n",
       "    <tr>\n",
       "      <th>0</th>\n",
       "      <td>Saboba</td>\n",
       "      <td>1</td>\n",
       "      <td>0</td>\n",
       "      <td>0</td>\n",
       "      <td>0</td>\n",
       "      <td>0</td>\n",
       "      <td>16</td>\n",
       "    </tr>\n",
       "    <tr>\n",
       "      <th>1</th>\n",
       "      <td>Agona West</td>\n",
       "      <td>1</td>\n",
       "      <td>0</td>\n",
       "      <td>0</td>\n",
       "      <td>0</td>\n",
       "      <td>0</td>\n",
       "      <td>0</td>\n",
       "    </tr>\n",
       "    <tr>\n",
       "      <th>2</th>\n",
       "      <td>Karaga</td>\n",
       "      <td>1</td>\n",
       "      <td>0</td>\n",
       "      <td>0</td>\n",
       "      <td>0</td>\n",
       "      <td>0</td>\n",
       "      <td>0</td>\n",
       "    </tr>\n",
       "    <tr>\n",
       "      <th>3</th>\n",
       "      <td>West Mamprusi</td>\n",
       "      <td>1</td>\n",
       "      <td>10</td>\n",
       "      <td>20</td>\n",
       "      <td>40</td>\n",
       "      <td>77</td>\n",
       "      <td>87</td>\n",
       "    </tr>\n",
       "    <tr>\n",
       "      <th>4</th>\n",
       "      <td>Chereponi</td>\n",
       "      <td>1</td>\n",
       "      <td>0</td>\n",
       "      <td>0</td>\n",
       "      <td>0</td>\n",
       "      <td>0</td>\n",
       "      <td>0</td>\n",
       "    </tr>\n",
       "    <tr>\n",
       "      <th>...</th>\n",
       "      <td>...</td>\n",
       "      <td>...</td>\n",
       "      <td>...</td>\n",
       "      <td>...</td>\n",
       "      <td>...</td>\n",
       "      <td>...</td>\n",
       "      <td>...</td>\n",
       "    </tr>\n",
       "    <tr>\n",
       "      <th>197</th>\n",
       "      <td>Kadjebi</td>\n",
       "      <td>0</td>\n",
       "      <td>0</td>\n",
       "      <td>0</td>\n",
       "      <td>0</td>\n",
       "      <td>0</td>\n",
       "      <td>0</td>\n",
       "    </tr>\n",
       "    <tr>\n",
       "      <th>198</th>\n",
       "      <td>Jaman South</td>\n",
       "      <td>0</td>\n",
       "      <td>0</td>\n",
       "      <td>0</td>\n",
       "      <td>0</td>\n",
       "      <td>0</td>\n",
       "      <td>0</td>\n",
       "    </tr>\n",
       "    <tr>\n",
       "      <th>199</th>\n",
       "      <td>Asokore Mampong Municipal</td>\n",
       "      <td>0</td>\n",
       "      <td>0</td>\n",
       "      <td>0</td>\n",
       "      <td>0</td>\n",
       "      <td>0</td>\n",
       "      <td>0</td>\n",
       "    </tr>\n",
       "    <tr>\n",
       "      <th>200</th>\n",
       "      <td>Ledzokuku / Krowor</td>\n",
       "      <td>0</td>\n",
       "      <td>0</td>\n",
       "      <td>0</td>\n",
       "      <td>0</td>\n",
       "      <td>0</td>\n",
       "      <td>0</td>\n",
       "    </tr>\n",
       "    <tr>\n",
       "      <th>201</th>\n",
       "      <td>Bia West</td>\n",
       "      <td>0</td>\n",
       "      <td>0</td>\n",
       "      <td>0</td>\n",
       "      <td>0</td>\n",
       "      <td>0</td>\n",
       "      <td>0</td>\n",
       "    </tr>\n",
       "  </tbody>\n",
       "</table>\n",
       "<p>202 rows × 7 columns</p>\n",
       "</div>"
      ],
      "text/plain": [
       "                        Region  Treatment  02Year  05Year  10Year  15Year  \\\n",
       "0                       Saboba          1       0       0       0       0   \n",
       "1                   Agona West          1       0       0       0       0   \n",
       "2                       Karaga          1       0       0       0       0   \n",
       "3                West Mamprusi          1      10      20      40      77   \n",
       "4                    Chereponi          1       0       0       0       0   \n",
       "..                         ...        ...     ...     ...     ...     ...   \n",
       "197                    Kadjebi          0       0       0       0       0   \n",
       "198                Jaman South          0       0       0       0       0   \n",
       "199  Asokore Mampong Municipal          0       0       0       0       0   \n",
       "200         Ledzokuku / Krowor          0       0       0       0       0   \n",
       "201                   Bia West          0       0       0       0       0   \n",
       "\n",
       "     20Year  \n",
       "0        16  \n",
       "1         0  \n",
       "2         0  \n",
       "3        87  \n",
       "4         0  \n",
       "..      ...  \n",
       "197       0  \n",
       "198       0  \n",
       "199       0  \n",
       "200       0  \n",
       "201       0  \n",
       "\n",
       "[202 rows x 7 columns]"
      ]
     },
     "execution_count": 2,
     "metadata": {},
     "output_type": "execute_result"
    }
   ],
   "source": [
    "# merge crop recurrence into treatment-control df\n",
    "df = tc_df.merge(recurrence, left_on='Region', right_on='Region')\n",
    "df = df.drop('Total_Flood_Risk',axis=1)\n",
    "df"
   ]
  },
  {
   "cell_type": "code",
   "execution_count": 3,
   "metadata": {},
   "outputs": [
    {
     "data": {
      "text/plain": [
       "Treatment\n",
       "0    172\n",
       "1     30\n",
       "dtype: int64"
      ]
     },
     "execution_count": 3,
     "metadata": {},
     "output_type": "execute_result"
    }
   ],
   "source": [
    "df.groupby('Treatment').size()"
   ]
  },
  {
   "cell_type": "markdown",
   "metadata": {},
   "source": [
    "###  Assumptions:\n",
    "\n",
    "1. Using flood return periods stands in for observational data. This means that the program year of 2019 corresponds to the **2-year return period** and everything else follows from there.\n",
    "\n",
    "* 05-year return period corresponds to 2016\n",
    "* 10-year return period corresponds to 2011\n",
    "* 15-year return period corresponds to 2006\n",
    "* 20-year return period corresponds to 2001\n"
   ]
  },
  {
   "cell_type": "code",
   "execution_count": 4,
   "metadata": {},
   "outputs": [
    {
     "data": {
      "text/html": [
       "<div>\n",
       "<style scoped>\n",
       "    .dataframe tbody tr th:only-of-type {\n",
       "        vertical-align: middle;\n",
       "    }\n",
       "\n",
       "    .dataframe tbody tr th {\n",
       "        vertical-align: top;\n",
       "    }\n",
       "\n",
       "    .dataframe thead th {\n",
       "        text-align: right;\n",
       "    }\n",
       "</style>\n",
       "<table border=\"1\" class=\"dataframe\">\n",
       "  <thead>\n",
       "    <tr style=\"text-align: right;\">\n",
       "      <th></th>\n",
       "      <th>0</th>\n",
       "      <th>1</th>\n",
       "    </tr>\n",
       "  </thead>\n",
       "  <tbody>\n",
       "    <tr>\n",
       "      <th>2019</th>\n",
       "      <td>1.406977</td>\n",
       "      <td>3.000000</td>\n",
       "    </tr>\n",
       "    <tr>\n",
       "      <th>2016</th>\n",
       "      <td>12.534884</td>\n",
       "      <td>104.600000</td>\n",
       "    </tr>\n",
       "    <tr>\n",
       "      <th>2011</th>\n",
       "      <td>30.104651</td>\n",
       "      <td>151.600000</td>\n",
       "    </tr>\n",
       "    <tr>\n",
       "      <th>2006</th>\n",
       "      <td>38.575581</td>\n",
       "      <td>175.433333</td>\n",
       "    </tr>\n",
       "    <tr>\n",
       "      <th>2001</th>\n",
       "      <td>51.918605</td>\n",
       "      <td>210.633333</td>\n",
       "    </tr>\n",
       "  </tbody>\n",
       "</table>\n",
       "</div>"
      ],
      "text/plain": [
       "              0           1\n",
       "2019   1.406977    3.000000\n",
       "2016  12.534884  104.600000\n",
       "2011  30.104651  151.600000\n",
       "2006  38.575581  175.433333\n",
       "2001  51.918605  210.633333"
      ]
     },
     "execution_count": 4,
     "metadata": {},
     "output_type": "execute_result"
    }
   ],
   "source": [
    "mydata = df.groupby('Treatment').mean().reset_index().T\n",
    "mydata = mydata.drop(mydata.index[0])\n",
    "\n",
    "mydata.index = ['2019', '2016', '2011', '2006', '2001']\n",
    "\n",
    "mydata"
   ]
  },
  {
   "cell_type": "code",
   "execution_count": 5,
   "metadata": {},
   "outputs": [
    {
     "data": {
      "image/png": "[encoded data removed]",
      "text/plain": [
       "<Figure size 720x432 with 1 Axes>"
      ]
     },
     "metadata": {
      "needs_background": "light"
     },
     "output_type": "display_data"
    }
   ],
   "source": [
    "import seaborn as sns\n",
    "import matplotlib.pyplot as plt\n",
    "\n",
    "sns.set_context(\"talk\")\n",
    "fig, ax = plt.subplots(figsize=(10, 6))\n",
    "sns.lineplot(x = mydata.index, y = mydata[1], label= 'Treatment', color='limegreen')\n",
    "sns.lineplot(x = mydata.index, y = mydata[0], label='Control', color='navy')\n",
    "\n",
    "plt.axvline('2016', color='pink') # plot vertical line corresponding to treatment year\n",
    "plt.axvline('2019', color='firebrick')\n",
    "plt.text('2016', 170, 'Prgm Start') # label vertical lines\n",
    "plt.text('2019', 170, 'Prgm End')\n",
    "\n",
    "plt.xlabel('Years Examined')\n",
    "plt.ylabel('Avg. Percent Flooded Population')\n",
    "plt.title('Avg. Percent Flooded Population Overtime, Treatment vs Control Districts')\n",
    "\n",
    "plt.legend()\n",
    "plt.show()"
   ]
  },
  {
   "cell_type": "code",
   "execution_count": 1,
   "metadata": {},
   "outputs": [
    {
     "ename": "NameError",
     "evalue": "name 'mydata' is not defined",
     "output_type": "error",
     "traceback": [
      "\u001b[0;31m---------------------------------------------------------------------------\u001b[0m",
      "\u001b[0;31mNameError\u001b[0m                                 Traceback (most recent call last)",
      "\u001b[0;32m<ipython-input-1-9452af147157>\u001b[0m in \u001b[0;36m<module>\u001b[0;34m\u001b[0m\n\u001b[1;32m      1\u001b[0m \u001b[0;31m# write to disk\u001b[0m\u001b[0;34m\u001b[0m\u001b[0;34m\u001b[0m\u001b[0;34m\u001b[0m\u001b[0m\n\u001b[0;32m----> 2\u001b[0;31m \u001b[0mmydata\u001b[0m\u001b[0;34m.\u001b[0m\u001b[0mto_csv\u001b[0m\u001b[0;34m(\u001b[0m\u001b[0mpath_output\u001b[0m\u001b[0;34m+\u001b[0m\u001b[0mname_output_file\u001b[0m\u001b[0;34m,\u001b[0m \u001b[0mindex\u001b[0m \u001b[0;34m=\u001b[0m \u001b[0;32mTrue\u001b[0m\u001b[0;34m,\u001b[0m \u001b[0mheader\u001b[0m\u001b[0;34m=\u001b[0m\u001b[0;32mTrue\u001b[0m\u001b[0;34m)\u001b[0m\u001b[0;34m\u001b[0m\u001b[0;34m\u001b[0m\u001b[0m\n\u001b[0m",
      "\u001b[0;31mNameError\u001b[0m: name 'mydata' is not defined"
     ]
    }
   ],
   "source": [
    "# write to disk\n",
    "mydata.to_csv(path_output+name_output_file, index = True, header=True)"
   ]
  }
 ],
 "metadata": {
  "kernelspec": {
   "display_name": "Python 3",
   "language": "python",
   "name": "python3"
  },
  "language_info": {
   "codemirror_mode": {
    "name": "ipython",
    "version": 3
   },
   "file_extension": ".py",
   "mimetype": "text/x-python",
   "name": "python",
   "nbconvert_exporter": "python",
   "pygments_lexer": "ipython3",
   "version": "3.7.8"
  }
 },
 "nbformat": 4,
 "nbformat_minor": 4
}
