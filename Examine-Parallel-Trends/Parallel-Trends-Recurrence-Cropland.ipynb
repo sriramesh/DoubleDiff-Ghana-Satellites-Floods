{
 "cells": [
  {
   "cell_type": "markdown",
   "metadata": {},
   "source": [
    "## In this notebook, I will:\n",
    "\n",
    "* Examine parallel trends in a few years worth of recurrence data prior to the program year (August 2019)\n",
    "* See if the 202 treatment and control Adm 2 districts have the same trajectory in terms of % flooded cropland\n"
   ]
  },
  {
   "cell_type": "markdown",
   "metadata": {},
   "source": [
    "* You would need to first split the 161 municipalities between those that are flood prone and those that are not at risk of flooding. You would use for this long term data on flooding at the municipal level.\n",
    "\n",
    "* The flood group prone will be your T group. The others your C group. Validity of C as a conterfactual to T would be established by testing for parallel trends in the wealth and food indicators between the two group before introduction of flood warning in August 2019.\n",
    "\n",
    "* Impact would be measured by double difference between the last observation before introduction of the scheme (July  2019) and the last observation under the scheme (October 2020).\n",
    "\n",
    "* The program is active during the rainy season every year, namely July/Aug to Oct/Nov. You observe 2019 and 2020. There will be similar observations for the 2021 rainy season.\n",
    "\n",
    "If the test of parallel trends is not satisfied, there is a way of constructing a counterfactual with a \"synthetic\" method. But we can explore this later according to the results of the parallel rends test.\n",
    "Does this look OK to you?\n"
   ]
  },
  {
   "cell_type": "code",
   "execution_count": 1,
   "metadata": {},
   "outputs": [],
   "source": [
    "import pandas as pd\n",
    "\n",
    "## load TC assignment\n",
    "path_input = '/Users/srilakshmi/Desktop/Thesis/Treatment-Control-Assignment/'\n",
    "name_input_file = 'Final_Adm2_TC_Assignment.csv'\n",
    "tc_df = pd.read_csv(path_input+name_input_file)\n",
    "\n",
    "## load crop recurrence\n",
    "path_input = '/Users/srilakshmi/Desktop/Thesis/Data/District-level/Crops/Output/'\n",
    "name_input_file = 'District-level_Crops_Recurrence.csv'\n",
    "crop_recurrence = pd.read_csv(path_input+name_input_file)"
   ]
  },
  {
   "cell_type": "code",
   "execution_count": 2,
   "metadata": {},
   "outputs": [
    {
     "data": {
      "text/html": [
       "<div>\n",
       "<style scoped>\n",
       "    .dataframe tbody tr th:only-of-type {\n",
       "        vertical-align: middle;\n",
       "    }\n",
       "\n",
       "    .dataframe tbody tr th {\n",
       "        vertical-align: top;\n",
       "    }\n",
       "\n",
       "    .dataframe thead th {\n",
       "        text-align: right;\n",
       "    }\n",
       "</style>\n",
       "<table border=\"1\" class=\"dataframe\">\n",
       "  <thead>\n",
       "    <tr style=\"text-align: right;\">\n",
       "      <th></th>\n",
       "      <th>Region</th>\n",
       "      <th>Treatment</th>\n",
       "      <th>02Year</th>\n",
       "      <th>05Year</th>\n",
       "      <th>10Year</th>\n",
       "      <th>15Year</th>\n",
       "      <th>20Year</th>\n",
       "    </tr>\n",
       "  </thead>\n",
       "  <tbody>\n",
       "    <tr>\n",
       "      <th>0</th>\n",
       "      <td>Saboba</td>\n",
       "      <td>1</td>\n",
       "      <td>0.12</td>\n",
       "      <td>3.75</td>\n",
       "      <td>13.41</td>\n",
       "      <td>20.38</td>\n",
       "      <td>33.28</td>\n",
       "    </tr>\n",
       "    <tr>\n",
       "      <th>1</th>\n",
       "      <td>West Mamprusi</td>\n",
       "      <td>1</td>\n",
       "      <td>0.83</td>\n",
       "      <td>6.32</td>\n",
       "      <td>38.76</td>\n",
       "      <td>59.25</td>\n",
       "      <td>86.98</td>\n",
       "    </tr>\n",
       "    <tr>\n",
       "      <th>2</th>\n",
       "      <td>Karaga</td>\n",
       "      <td>1</td>\n",
       "      <td>0.25</td>\n",
       "      <td>5.96</td>\n",
       "      <td>12.46</td>\n",
       "      <td>18.69</td>\n",
       "      <td>28.24</td>\n",
       "    </tr>\n",
       "    <tr>\n",
       "      <th>3</th>\n",
       "      <td>Binduri</td>\n",
       "      <td>1</td>\n",
       "      <td>0.32</td>\n",
       "      <td>0.65</td>\n",
       "      <td>0.92</td>\n",
       "      <td>1.33</td>\n",
       "      <td>2.61</td>\n",
       "    </tr>\n",
       "    <tr>\n",
       "      <th>4</th>\n",
       "      <td>Chereponi</td>\n",
       "      <td>1</td>\n",
       "      <td>0.21</td>\n",
       "      <td>3.11</td>\n",
       "      <td>7.65</td>\n",
       "      <td>10.78</td>\n",
       "      <td>15.71</td>\n",
       "    </tr>\n",
       "    <tr>\n",
       "      <th>...</th>\n",
       "      <td>...</td>\n",
       "      <td>...</td>\n",
       "      <td>...</td>\n",
       "      <td>...</td>\n",
       "      <td>...</td>\n",
       "      <td>...</td>\n",
       "      <td>...</td>\n",
       "    </tr>\n",
       "    <tr>\n",
       "      <th>197</th>\n",
       "      <td>Jaman South</td>\n",
       "      <td>0</td>\n",
       "      <td>0.00</td>\n",
       "      <td>0.00</td>\n",
       "      <td>0.00</td>\n",
       "      <td>0.00</td>\n",
       "      <td>0.00</td>\n",
       "    </tr>\n",
       "    <tr>\n",
       "      <th>198</th>\n",
       "      <td>Ledzokuku / Krowor</td>\n",
       "      <td>0</td>\n",
       "      <td>0.00</td>\n",
       "      <td>0.00</td>\n",
       "      <td>0.00</td>\n",
       "      <td>0.00</td>\n",
       "      <td>0.00</td>\n",
       "    </tr>\n",
       "    <tr>\n",
       "      <th>199</th>\n",
       "      <td>Asokore Mampong Municipal</td>\n",
       "      <td>0</td>\n",
       "      <td>0.00</td>\n",
       "      <td>0.00</td>\n",
       "      <td>0.00</td>\n",
       "      <td>0.00</td>\n",
       "      <td>0.00</td>\n",
       "    </tr>\n",
       "    <tr>\n",
       "      <th>200</th>\n",
       "      <td>Bia West</td>\n",
       "      <td>0</td>\n",
       "      <td>0.00</td>\n",
       "      <td>0.00</td>\n",
       "      <td>0.00</td>\n",
       "      <td>0.00</td>\n",
       "      <td>0.00</td>\n",
       "    </tr>\n",
       "    <tr>\n",
       "      <th>201</th>\n",
       "      <td>Kadjebi</td>\n",
       "      <td>0</td>\n",
       "      <td>0.00</td>\n",
       "      <td>0.00</td>\n",
       "      <td>0.00</td>\n",
       "      <td>0.00</td>\n",
       "      <td>0.00</td>\n",
       "    </tr>\n",
       "  </tbody>\n",
       "</table>\n",
       "<p>202 rows × 7 columns</p>\n",
       "</div>"
      ],
      "text/plain": [
       "                        Region  Treatment  02Year  05Year  10Year  15Year  \\\n",
       "0                       Saboba          1    0.12    3.75   13.41   20.38   \n",
       "1                West Mamprusi          1    0.83    6.32   38.76   59.25   \n",
       "2                       Karaga          1    0.25    5.96   12.46   18.69   \n",
       "3                      Binduri          1    0.32    0.65    0.92    1.33   \n",
       "4                    Chereponi          1    0.21    3.11    7.65   10.78   \n",
       "..                         ...        ...     ...     ...     ...     ...   \n",
       "197                Jaman South          0    0.00    0.00    0.00    0.00   \n",
       "198         Ledzokuku / Krowor          0    0.00    0.00    0.00    0.00   \n",
       "199  Asokore Mampong Municipal          0    0.00    0.00    0.00    0.00   \n",
       "200                   Bia West          0    0.00    0.00    0.00    0.00   \n",
       "201                    Kadjebi          0    0.00    0.00    0.00    0.00   \n",
       "\n",
       "     20Year  \n",
       "0     33.28  \n",
       "1     86.98  \n",
       "2     28.24  \n",
       "3      2.61  \n",
       "4     15.71  \n",
       "..      ...  \n",
       "197    0.00  \n",
       "198    0.00  \n",
       "199    0.00  \n",
       "200    0.00  \n",
       "201    0.00  \n",
       "\n",
       "[202 rows x 7 columns]"
      ]
     },
     "execution_count": 2,
     "metadata": {},
     "output_type": "execute_result"
    }
   ],
   "source": [
    "# merge crop recurrence into treatment-control df\n",
    "df = tc_df.merge(crop_recurrence, left_on='Region', right_on='Region')\n",
    "df = df.drop('Total_Flood_Risk',axis=1)\n",
    "df"
   ]
  },
  {
   "cell_type": "code",
   "execution_count": 3,
   "metadata": {},
   "outputs": [
    {
     "data": {
      "text/plain": [
       "Treatment\n",
       "0    141\n",
       "1     61\n",
       "dtype: int64"
      ]
     },
     "execution_count": 3,
     "metadata": {},
     "output_type": "execute_result"
    }
   ],
   "source": [
    "df.groupby('Treatment').size()"
   ]
  },
  {
   "cell_type": "code",
   "execution_count": 4,
   "metadata": {},
   "outputs": [
    {
     "data": {
      "text/html": [
       "<div>\n",
       "<style scoped>\n",
       "    .dataframe tbody tr th:only-of-type {\n",
       "        vertical-align: middle;\n",
       "    }\n",
       "\n",
       "    .dataframe tbody tr th {\n",
       "        vertical-align: top;\n",
       "    }\n",
       "\n",
       "    .dataframe thead th {\n",
       "        text-align: right;\n",
       "    }\n",
       "</style>\n",
       "<table border=\"1\" class=\"dataframe\">\n",
       "  <thead>\n",
       "    <tr style=\"text-align: right;\">\n",
       "      <th></th>\n",
       "      <th>0</th>\n",
       "      <th>1</th>\n",
       "    </tr>\n",
       "  </thead>\n",
       "  <tbody>\n",
       "    <tr>\n",
       "      <th>02Year</th>\n",
       "      <td>0.047021</td>\n",
       "      <td>0.168361</td>\n",
       "    </tr>\n",
       "    <tr>\n",
       "      <th>05Year</th>\n",
       "      <td>0.204184</td>\n",
       "      <td>1.556557</td>\n",
       "    </tr>\n",
       "    <tr>\n",
       "      <th>10Year</th>\n",
       "      <td>0.501489</td>\n",
       "      <td>4.755738</td>\n",
       "    </tr>\n",
       "    <tr>\n",
       "      <th>15Year</th>\n",
       "      <td>0.668227</td>\n",
       "      <td>6.879016</td>\n",
       "    </tr>\n",
       "    <tr>\n",
       "      <th>20Year</th>\n",
       "      <td>0.944894</td>\n",
       "      <td>10.088033</td>\n",
       "    </tr>\n",
       "  </tbody>\n",
       "</table>\n",
       "</div>"
      ],
      "text/plain": [
       "               0          1\n",
       "02Year  0.047021   0.168361\n",
       "05Year  0.204184   1.556557\n",
       "10Year  0.501489   4.755738\n",
       "15Year  0.668227   6.879016\n",
       "20Year  0.944894  10.088033"
      ]
     },
     "execution_count": 4,
     "metadata": {},
     "output_type": "execute_result"
    }
   ],
   "source": [
    "mydata = df.groupby('Treatment').mean().reset_index().T\n",
    "mydata = mydata.drop(mydata.index[0])\n",
    "mydata"
   ]
  },
  {
   "cell_type": "code",
   "execution_count": 5,
   "metadata": {},
   "outputs": [
    {
     "data": {
      "image/png": "[encoded data removed]",
      "text/plain": [
       "<Figure size 720x432 with 1 Axes>"
      ]
     },
     "metadata": {
      "needs_background": "light"
     },
     "output_type": "display_data"
    }
   ],
   "source": [
    "import seaborn as sns\n",
    "import matplotlib.pyplot as plt\n",
    "\n",
    "sns.set_context(\"talk\")\n",
    "fig, ax = plt.subplots(figsize=(10, 6))\n",
    "sns.lineplot(x = mydata.index, y = mydata[0], label='Control')\n",
    "sns.lineplot(x = mydata.index, y = mydata[1], label= 'Treatment')\n",
    "\n",
    "plt.legend()\n",
    "plt.show()"
   ]
  },
  {
   "cell_type": "code",
   "execution_count": null,
   "metadata": {},
   "outputs": [],
   "source": []
  }
 ],
 "metadata": {
  "kernelspec": {
   "display_name": "Python 3",
   "language": "python",
   "name": "python3"
  },
  "language_info": {
   "codemirror_mode": {
    "name": "ipython",
    "version": 3
   },
   "file_extension": ".py",
   "mimetype": "text/x-python",
   "name": "python",
   "nbconvert_exporter": "python",
   "pygments_lexer": "ipython3",
   "version": "3.7.8"
  }
 },
 "nbformat": 4,
 "nbformat_minor": 4
}
