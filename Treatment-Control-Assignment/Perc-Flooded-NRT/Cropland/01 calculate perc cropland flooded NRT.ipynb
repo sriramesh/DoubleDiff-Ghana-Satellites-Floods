{
 "cells": [
  {
   "cell_type": "code",
   "execution_count": 1,
   "metadata": {},
   "outputs": [],
   "source": [
    "import pandas as pd\n",
    "import numpy as np\n"
   ]
  },
  {
   "cell_type": "code",
   "execution_count": 2,
   "metadata": {},
   "outputs": [],
   "source": [
    "# file paths and names\n",
    "path_input = '/Users/srilakshmi/Desktop/Thesis/Data/District-level/Totals/'\n",
    "name_input_file = 'cropland-total.csv'\n",
    "\n",
    "path_output = '/Users/srilakshmi/Desktop/Thesis/Treatment-Control-Assignment/Perc-Flooded-NRT/Cropland/'\n",
    "name_output_file = 'Perc_Cropland_Flooded.csv'\n"
   ]
  },
  {
   "cell_type": "code",
   "execution_count": 3,
   "metadata": {},
   "outputs": [],
   "source": [
    "# clean total cropland data\n",
    "\n",
    "total = pd.read_csv(path_input+name_input_file, header=0)\n",
    "\n",
    "colnames = []\n",
    "for col in total.columns:\n",
    "    colnames.append(col)\n",
    "\n",
    "total = total.dropna(subset=[colnames[1]])\n",
    "total = total[[colnames[1], colnames[5], colnames[6]]]\n",
    "total = total.rename(columns={colnames[1]: \"Region\",\n",
    "                              colnames[5]: \"Flooded\",\n",
    "                              colnames[6]: \"Total\"})\n",
    "\n",
    "total['Perc_Flooded'] = list(total['Flooded']/total['Total'])\n",
    "\n",
    "total = total.fillna(0)\n",
    "\n",
    "total = total.replace([np.inf, -np.inf], np.nan)\n",
    "\n",
    "total = total.drop(columns=['Total', 'Flooded'])\n",
    "total = total.sort_values(by=['Perc_Flooded'])\n",
    "\n",
    "total\n",
    "\n",
    "# save file to disk\n",
    "\n",
    "total.to_csv(path_output+name_output_file, index = False, header=True)\n"
   ]
  },
  {
   "cell_type": "code",
   "execution_count": null,
   "metadata": {},
   "outputs": [],
   "source": []
  }
 ],
 "metadata": {
  "kernelspec": {
   "display_name": "Python 3",
   "language": "python",
   "name": "python3"
  },
  "language_info": {
   "codemirror_mode": {
    "name": "ipython",
    "version": 3
   },
   "file_extension": ".py",
   "mimetype": "text/x-python",
   "name": "python",
   "nbconvert_exporter": "python",
   "pygments_lexer": "ipython3",
   "version": "3.7.8"
  }
 },
 "nbformat": 4,
 "nbformat_minor": 4
}
