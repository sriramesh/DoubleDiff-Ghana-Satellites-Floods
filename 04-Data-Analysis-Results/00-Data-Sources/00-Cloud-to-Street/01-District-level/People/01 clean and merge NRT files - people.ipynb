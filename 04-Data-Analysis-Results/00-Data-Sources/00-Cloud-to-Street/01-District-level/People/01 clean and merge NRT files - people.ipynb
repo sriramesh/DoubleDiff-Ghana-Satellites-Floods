{
 "cells": [
  {
   "cell_type": "code",
   "execution_count": 1,
   "metadata": {},
   "outputs": [],
   "source": [
    "import pandas as pd\n",
    "from os import listdir\n",
    "from os.path import isfile, join\n",
    "import pathlib\n",
    "import sys\n",
    "\n",
    "# insert at 1, 0 is the script path (or '' in REPL)\n",
    "path_mod = '/Users/srilakshmi/Desktop/Thesis/04-Data-Analysis-Results/00-Data-Sources/00-Cloud-to-Street/01-District-level/'\n",
    "sys.path.insert(1, path_mod)\n",
    "\n",
    "import clean\n"
   ]
  },
  {
   "cell_type": "code",
   "execution_count": 2,
   "metadata": {},
   "outputs": [],
   "source": [
    "# file and column names used\n",
    "col_name_old = \"People Impacted\"\n",
    "monitor_name_pos_left = 39\n",
    "monitor_name_pos_right = 56\n",
    "historic_name_pos_left = 40\n",
    "historic_name_pos_right = 57\n",
    "\n",
    "# file paths and file names\n",
    "path_input = '/Users/srilakshmi/Desktop/Thesis/04-Data-Analysis-Results/00-Data-Sources/00-Cloud-to-Street/01-District-level/People/Data-NRT/'\n",
    "\n",
    "path_output = '/Users/srilakshmi/Desktop/Thesis/04-Data-Analysis-Results/00-Data-Sources/00-Cloud-to-Street/01-District-level/People/Output/'\n",
    "name_output_file = 'District-level_People_NRT.csv'\n"
   ]
  },
  {
   "cell_type": "code",
   "execution_count": 3,
   "metadata": {},
   "outputs": [
    {
     "data": {
      "text/plain": [
       "['People Impacted in Ghana Ghana_Monitor_20200902_20200909.csv',\n",
       " 'People Impacted in Ghana Ghana_Historic_20190901_20190920.csv',\n",
       " 'People Impacted in Ghana Ghana_Monitor_20200930_20201007.csv',\n",
       " 'People Impacted in Ghana Ghana_Monitor_20200916_20200923.csv',\n",
       " 'People Impacted in Ghana Ghana_Monitor_20200715_20200722.csv',\n",
       " 'People Impacted in Ghana Ghana_Monitor_20200923_20200930.csv',\n",
       " 'People Impacted in Ghana Ghana_Monitor_20200722_20200729.csv',\n",
       " 'People Impacted in Ghana Ghana_Monitor_20200826_20200902.csv',\n",
       " 'People Impacted in Ghana Ghana_Monitor_20200819_20200826.csv',\n",
       " 'People Impacted in Ghana Ghana_Monitor_20200805_20200812.csv',\n",
       " 'People Impacted in Ghana Ghana_Monitor_20200909_20200916.csv',\n",
       " 'People Impacted in Ghana Ghana_Monitor_20201014_20201021.csv',\n",
       " 'People Impacted in Ghana Ghana_Historic_20180815_20181015.csv',\n",
       " 'People Impacted in Ghana Ghana_Monitor_20200812_20200819.csv']"
      ]
     },
     "execution_count": 3,
     "metadata": {},
     "output_type": "execute_result"
    }
   ],
   "source": [
    "# get list of file names\n",
    "files = [f for f in listdir(path_input) if isfile(join(path_input, f))]\n",
    "files=files[1:]\n",
    "files"
   ]
  },
  {
   "cell_type": "code",
   "execution_count": 4,
   "metadata": {},
   "outputs": [
    {
     "ename": "IndexError",
     "evalue": "list index out of range",
     "output_type": "error",
     "traceback": [
      "\u001b[0;31m---------------------------------------------------------------------------\u001b[0m",
      "\u001b[0;31mIndexError\u001b[0m                                Traceback (most recent call last)",
      "\u001b[0;32m<ipython-input-4-628d21f97733>\u001b[0m in \u001b[0;36m<module>\u001b[0;34m\u001b[0m\n\u001b[1;32m     20\u001b[0m \u001b[0;34m\u001b[0m\u001b[0m\n\u001b[1;32m     21\u001b[0m \u001b[0;32mfor\u001b[0m \u001b[0mi\u001b[0m \u001b[0;32min\u001b[0m \u001b[0mrange\u001b[0m\u001b[0;34m(\u001b[0m\u001b[0;36m14\u001b[0m\u001b[0;34m,\u001b[0m\u001b[0;36m15\u001b[0m\u001b[0;34m)\u001b[0m\u001b[0;34m:\u001b[0m\u001b[0;34m\u001b[0m\u001b[0;34m\u001b[0m\u001b[0m\n\u001b[0;32m---> 22\u001b[0;31m     \u001b[0mz\u001b[0m \u001b[0;34m=\u001b[0m \u001b[0mclean\u001b[0m\u001b[0;34m.\u001b[0m\u001b[0mclean_csv_monitor\u001b[0m\u001b[0;34m(\u001b[0m\u001b[0mcol_name_old\u001b[0m\u001b[0;34m,\u001b[0m \u001b[0mpath_input\u001b[0m\u001b[0;34m,\u001b[0m \u001b[0mfiles\u001b[0m\u001b[0;34m[\u001b[0m\u001b[0mi\u001b[0m\u001b[0;34m]\u001b[0m\u001b[0;34m,\u001b[0m \u001b[0mmonitor_name_pos_left\u001b[0m\u001b[0;34m,\u001b[0m \u001b[0mmonitor_name_pos_right\u001b[0m\u001b[0;34m)\u001b[0m\u001b[0;34m\u001b[0m\u001b[0;34m\u001b[0m\u001b[0m\n\u001b[0m\u001b[1;32m     23\u001b[0m     \u001b[0mmerged\u001b[0m \u001b[0;34m=\u001b[0m \u001b[0mclean\u001b[0m\u001b[0;34m.\u001b[0m\u001b[0mspecial_merge\u001b[0m\u001b[0;34m(\u001b[0m\u001b[0mleft\u001b[0m \u001b[0;34m=\u001b[0m \u001b[0mmerged\u001b[0m\u001b[0;34m,\u001b[0m \u001b[0mright\u001b[0m \u001b[0;34m=\u001b[0m \u001b[0mz\u001b[0m\u001b[0;34m)\u001b[0m\u001b[0;34m\u001b[0m\u001b[0;34m\u001b[0m\u001b[0m\n\u001b[1;32m     24\u001b[0m \u001b[0;34m\u001b[0m\u001b[0m\n",
      "\u001b[0;31mIndexError\u001b[0m: list index out of range"
     ]
    }
   ],
   "source": [
    "# merge csv files\n",
    "\n",
    "for i in range(0, 1):\n",
    "    x = clean.clean_csv_monitor(col_name_old, path_input, files[i], monitor_name_pos_left, monitor_name_pos_right)\n",
    "    y = clean.clean_csv_monitor(col_name_old, path_input, files[i+1], monitor_name_pos_left, monitor_name_pos_right)\n",
    "    merged = clean.special_merge(left = x, right = y)\n",
    "\n",
    "for i in range(2, 3):\n",
    "    z = clean.clean_csv_historic(col_name_old, path_input, files[i], historic_name_pos_left, historic_name_pos_right)\n",
    "    merged = clean.special_merge(left = merged, right = z)\n",
    "    \n",
    "for i in range(3, 13):\n",
    "    z = clean.clean_csv_monitor(col_name_old, path_input, files[i], monitor_name_pos_left, monitor_name_pos_right)\n",
    "    merged = clean.special_merge(left = merged, right = z)\n",
    "    i += 1\n",
    "    \n",
    "for i in range(13,14):\n",
    "    z = clean.clean_csv_historic(col_name_old, path_input, files[i], historic_name_pos_left, historic_name_pos_right)\n",
    "    merged = clean.special_merge(left = merged, right = z)\n",
    "    \n",
    "for i in range(14,15):\n",
    "    z = clean.clean_csv_monitor(col_name_old, path_input, files[i], monitor_name_pos_left, monitor_name_pos_right)\n",
    "    merged = clean.special_merge(left = merged, right = z)\n",
    "\n",
    "merged"
   ]
  },
  {
   "cell_type": "code",
   "execution_count": null,
   "metadata": {},
   "outputs": [],
   "source": [
    "# save file to disk\n",
    "\n",
    "merged.to_csv(path_output+name_output_file, index = False, header=True)"
   ]
  },
  {
   "cell_type": "code",
   "execution_count": null,
   "metadata": {},
   "outputs": [],
   "source": []
  }
 ],
 "metadata": {
  "kernelspec": {
   "display_name": "Python 3",
   "language": "python",
   "name": "python3"
  },
  "language_info": {
   "codemirror_mode": {
    "name": "ipython",
    "version": 3
   },
   "file_extension": ".py",
   "mimetype": "text/x-python",
   "name": "python",
   "nbconvert_exporter": "python",
   "pygments_lexer": "ipython3",
   "version": "3.7.8"
  }
 },
 "nbformat": 4,
 "nbformat_minor": 4
}
