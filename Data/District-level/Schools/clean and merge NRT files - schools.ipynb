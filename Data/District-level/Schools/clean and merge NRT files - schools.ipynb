{
 "cells": [
  {
   "cell_type": "code",
   "execution_count": 1,
   "metadata": {},
   "outputs": [],
   "source": [
    "import pandas as pd\n",
    "from os import listdir\n",
    "from os.path import isfile, join\n",
    "import pathlib\n"
   ]
  },
  {
   "cell_type": "code",
   "execution_count": 2,
   "metadata": {},
   "outputs": [],
   "source": [
    "# file and column names used\n",
    "col_name_old = \"Schools Impacted\"\n",
    "\n",
    "monitor_name_pos_left = 42\n",
    "monitor_name_pos_right = 59\n",
    "\n",
    "historic_name_pos_left = 39\n",
    "historic_name_pos_right = 56\n",
    "\n",
    "# file paths and file names\n",
    "path_main = '/Users/srilakshmi/Desktop/Thesis/Data/District-level/Schools/'\n",
    "name_folder_data = 'Data-NRT/'\n",
    "path_data = path_main+name_folder_data\n",
    "name_output_file = 'District-level_Schools_NRT.csv'\n"
   ]
  },
  {
   "cell_type": "code",
   "execution_count": 3,
   "metadata": {},
   "outputs": [],
   "source": [
    "# data cleaning functions\n",
    "\n",
    "def clean_csv_monitor(string):\n",
    "    \n",
    "    df = pd.read_csv(name_folder_data+string, header=0)\n",
    "    df = df.drop_duplicates()\n",
    "    df = df.rename(columns={col_name_old: string[monitor_name_pos_left:monitor_name_pos_right]})\n",
    "    df = df.sort_values(by=['Region'])\n",
    "    \n",
    "    return df\n",
    "\n",
    "def clean_csv_historic(string):\n",
    "    \n",
    "    df = pd.read_csv(name_folder_data+string, header=0)\n",
    "    df = df.drop_duplicates()\n",
    "    df = df.rename(columns={col_name_old: string[historic_name_pos_left:historic_name_pos_right]})\n",
    "    df = df.sort_values(by=['Region'])\n",
    "    \n",
    "    return df\n",
    "\n",
    "def special_merge(left,right):\n",
    "    merged = left.set_index('Region').join(right.set_index('Region')) # merged file 0 and file 1 together    \n",
    "    merged.index.name = 'Region'\n",
    "    merged.reset_index(inplace=True)\n",
    "    \n",
    "    return merged\n"
   ]
  },
  {
   "cell_type": "code",
   "execution_count": 5,
   "metadata": {},
   "outputs": [
    {
     "data": {
      "text/plain": [
       "['Schools Impacted in Ghana Ghana_Monitor_20201014_20201021.csv',\n",
       " 'Schools Impacted in Ghana Ghana_Monitor_20200909_20200916.csv',\n",
       " 'Schools Impacted in Ghana Ghana_Monitor_20200805_20200812.csv',\n",
       " 'Schools Impacted in Ghana Ghana_Monitor_20200812_20200819.csv',\n",
       " 'Schools Impacted in Ghana Ghana_Monitor_20200722_20200729.csv',\n",
       " 'Schools Impacted in Ghana Ghana_Monitor_20200923_20200930.csv',\n",
       " 'Schools Impacted in Ghana Ghana_Monitor_20200826_20200902.csv',\n",
       " 'Schools Impacted in Ghana Ghana_Monitor_20200819_20200826.csv',\n",
       " 'Schools Impacted in Ghana Ghana_Historic_20190901_20190920.csv',\n",
       " 'Schools Impacted in Ghana Ghana_Monitor_20200902_20200909.csv',\n",
       " 'Schools Impacted in Ghana Ghana_Monitor_20200930_20201007.csv',\n",
       " 'Schools Impacted in Ghana Ghana_Monitor_20200715_20200722.csv',\n",
       " 'Schools Impacted in Ghana Ghana_Monitor_20200916_20200923.csv',\n",
       " 'Schools Impacted in Ghana Ghana_Historic_20180815_20181015.csv',\n",
       " 'Schools Impacted in Ghana Ghana_Monitor_20201007_20201014.csv']"
      ]
     },
     "execution_count": 5,
     "metadata": {},
     "output_type": "execute_result"
    }
   ],
   "source": [
    "# get list of file names\n",
    "files = [f for f in listdir(path_data) if isfile(join(path_data, f))]\n",
    "files"
   ]
  },
  {
   "cell_type": "code",
   "execution_count": null,
   "metadata": {},
   "outputs": [],
   "source": []
  }
 ],
 "metadata": {
  "kernelspec": {
   "display_name": "Python 3",
   "language": "python",
   "name": "python3"
  },
  "language_info": {
   "codemirror_mode": {
    "name": "ipython",
    "version": 3
   },
   "file_extension": ".py",
   "mimetype": "text/x-python",
   "name": "python",
   "nbconvert_exporter": "python",
   "pygments_lexer": "ipython3",
   "version": "3.7.8"
  }
 },
 "nbformat": 4,
 "nbformat_minor": 4
}
