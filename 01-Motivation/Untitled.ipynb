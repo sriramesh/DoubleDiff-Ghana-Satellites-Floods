{
 "cells": [
  {
   "cell_type": "markdown",
   "metadata": {},
   "source": [
    "### Background, introduction, and motivation for doing this work..."
   ]
  },
  {
   "cell_type": "markdown",
   "metadata": {},
   "source": [
    "<i>Anecdotal</i>\n",
    "\n",
    "* While there is growing interest in remotely-sensed flood information from the disaster response community in low to middle income countries (LMICs), little to no empirical studies exist with regards to assessing the return on investment from this information on acutal development outcomes.\n",
    "* Information management is always a part of disaster management contracts\n",
    "\n",
    "<b></b>\n",
    "\n",
    "* Organizations that currently use or have considered using remotely-sensed flood information systems in their disaster response efforts within the last five (5) years include: the United Nations Development Programme, the United Nations World Food Programme, the Government of the Republic of Congo's Ministry of Social Affairs, the National Disaster Risk Management Organization (NADMO) within the Government of Ghana's Ministry of Interior, the National Disaster Risk Management Commission (NDRMC) of the Government of Ethiopia, the African Risk Capacity, the Government of India, the World Bank's Nile Basin Initiative, and the World Bank Climate Change Unit, and the Government of Argentina.\n",
    "\n",
    "<b></b>\n",
    "\n",
    "* There is immense value in estimating the impact of remotely-sensed flood information on development outcomes.\n",
    "\n",
    "* First, the market for government-facing data science products is booming. From data visualization dashboards to interactive maps, policymakers today have a plethora of options when it comes to using data to drive decision-making. Conducting legitimate empirical analysis on the actual value provided in these products would be beneficial for policymakers in that it would help them begin to understand their return on investment.\n",
    "\n",
    "* Second, there is a huge need for public sector-focused data providers to do more in order to ensure that the data they provide actually enable policymakers to make better, more informed decisions, and to actually achieve their end-goals. A robust impact assessmnet of their products on development outcomes would serve to make more clear the actual impact or 'social good' data providers are or are not generating in the world, as well as clarify their product value proposition to improve their internal business strategy.\n",
    "\n",
    "<b></b>\n",
    "\n",
    "<i>Studies done</i>\n"
   ]
  },
  {
   "cell_type": "code",
   "execution_count": null,
   "metadata": {},
   "outputs": [],
   "source": []
  }
 ],
 "metadata": {
  "kernelspec": {
   "display_name": "Python 3",
   "language": "python",
   "name": "python3"
  },
  "language_info": {
   "codemirror_mode": {
    "name": "ipython",
    "version": 3
   },
   "file_extension": ".py",
   "mimetype": "text/x-python",
   "name": "python",
   "nbconvert_exporter": "python",
   "pygments_lexer": "ipython3",
   "version": "3.7.8"
  }
 },
 "nbformat": 4,
 "nbformat_minor": 4
}
