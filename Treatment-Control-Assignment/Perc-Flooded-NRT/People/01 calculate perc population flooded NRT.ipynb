{
 "cells": [
  {
   "cell_type": "code",
   "execution_count": 5,
   "metadata": {},
   "outputs": [],
   "source": [
    "import pandas as pd\n",
    "import matplotlib.pyplot as plt\n"
   ]
  },
  {
   "cell_type": "code",
   "execution_count": 8,
   "metadata": {},
   "outputs": [],
   "source": [
    "# file paths and names\n",
    "path_input = '/Users/srilakshmi/Desktop/Thesis/Data/District-level/Totals/'\n",
    "name_input_file = 'Impacts-Ghana_MaxFlood_20200715_20201014.csv'\n",
    "\n",
    "path_output = '/Users/srilakshmi/Desktop/Thesis/Treatment-Control-Assignment/Perc-Flooded-NRT/People/'\n",
    "name_output_file = 'Perc_People_Flooded.csv'\n"
   ]
  },
  {
   "cell_type": "code",
   "execution_count": 9,
   "metadata": {},
   "outputs": [
    {
     "data": {
      "text/html": [
       "<div>\n",
       "<style scoped>\n",
       "    .dataframe tbody tr th:only-of-type {\n",
       "        vertical-align: middle;\n",
       "    }\n",
       "\n",
       "    .dataframe tbody tr th {\n",
       "        vertical-align: top;\n",
       "    }\n",
       "\n",
       "    .dataframe thead th {\n",
       "        text-align: right;\n",
       "    }\n",
       "</style>\n",
       "<table border=\"1\" class=\"dataframe\">\n",
       "  <thead>\n",
       "    <tr style=\"text-align: right;\">\n",
       "      <th></th>\n",
       "      <th>Region</th>\n",
       "      <th>Perc Population Flooded</th>\n",
       "    </tr>\n",
       "  </thead>\n",
       "  <tbody>\n",
       "    <tr>\n",
       "      <th>100</th>\n",
       "      <td>Abura / Asebu / Kwamankese</td>\n",
       "      <td>0.001296</td>\n",
       "    </tr>\n",
       "    <tr>\n",
       "      <th>4</th>\n",
       "      <td>Accra Metropolis</td>\n",
       "      <td>0.002028</td>\n",
       "    </tr>\n",
       "    <tr>\n",
       "      <th>29</th>\n",
       "      <td>Ada East</td>\n",
       "      <td>0.010217</td>\n",
       "    </tr>\n",
       "    <tr>\n",
       "      <th>26</th>\n",
       "      <td>Ada West</td>\n",
       "      <td>0.013472</td>\n",
       "    </tr>\n",
       "    <tr>\n",
       "      <th>191</th>\n",
       "      <td>Adaklu</td>\n",
       "      <td>0.000266</td>\n",
       "    </tr>\n",
       "    <tr>\n",
       "      <th>...</th>\n",
       "      <td>...</td>\n",
       "      <td>...</td>\n",
       "    </tr>\n",
       "    <tr>\n",
       "      <th>154</th>\n",
       "      <td>West Gonja</td>\n",
       "      <td>0.000662</td>\n",
       "    </tr>\n",
       "    <tr>\n",
       "      <th>32</th>\n",
       "      <td>West Mamprusi</td>\n",
       "      <td>0.005232</td>\n",
       "    </tr>\n",
       "    <tr>\n",
       "      <th>18</th>\n",
       "      <td>Yendi Municipal</td>\n",
       "      <td>0.008060</td>\n",
       "    </tr>\n",
       "    <tr>\n",
       "      <th>209</th>\n",
       "      <td>Yilo Krobo</td>\n",
       "      <td>0.000000</td>\n",
       "    </tr>\n",
       "    <tr>\n",
       "      <th>96</th>\n",
       "      <td>Zabzugu</td>\n",
       "      <td>0.002590</td>\n",
       "    </tr>\n",
       "  </tbody>\n",
       "</table>\n",
       "<p>216 rows × 2 columns</p>\n",
       "</div>"
      ],
      "text/plain": [
       "                         Region  Perc Population Flooded\n",
       "100  Abura / Asebu / Kwamankese                 0.001296\n",
       "4              Accra Metropolis                 0.002028\n",
       "29                     Ada East                 0.010217\n",
       "26                     Ada West                 0.013472\n",
       "191                      Adaklu                 0.000266\n",
       "..                          ...                      ...\n",
       "154                  West Gonja                 0.000662\n",
       "32                West Mamprusi                 0.005232\n",
       "18              Yendi Municipal                 0.008060\n",
       "209                  Yilo Krobo                 0.000000\n",
       "96                      Zabzugu                 0.002590\n",
       "\n",
       "[216 rows x 2 columns]"
      ]
     },
     "execution_count": 9,
     "metadata": {},
     "output_type": "execute_result"
    }
   ],
   "source": [
    "tot_pop = pd.read_csv(path_input+name_input_file, header=0)\n",
    "\n",
    "colnames = []\n",
    "for col in tot_pop.columns:\n",
    "    colnames.append(col)\n",
    "\n",
    "tot_pop = tot_pop.dropna(subset=[colnames[2]])\n",
    "tot_pop = tot_pop[[colnames[1], colnames[2], colnames[6]]]\n",
    "tot_pop = tot_pop.rename(columns={colnames[1]: \"Region\", colnames[2]: \"Total Pop\", colnames[6]: \"Flooded Pop\"})\n",
    "tot_pop['Perc Population Flooded'] = list(tot_pop['Flooded Pop']/tot_pop['Total Pop'])\n",
    "\n",
    "tot_pop = tot_pop.drop(columns=['Total Pop', 'Flooded Pop'])\n",
    "tot_pop = tot_pop.sort_values(by=['Region'])\n",
    "\n",
    "tot_pop\n"
   ]
  },
  {
   "cell_type": "code",
   "execution_count": 10,
   "metadata": {},
   "outputs": [],
   "source": [
    "# save file to disk\n",
    "\n",
    "tot_pop.to_csv(path_output+name_output_file, index = False, header=True)\n"
   ]
  },
  {
   "cell_type": "code",
   "execution_count": null,
   "metadata": {},
   "outputs": [],
   "source": []
  }
 ],
 "metadata": {
  "kernelspec": {
   "display_name": "Python 3",
   "language": "python",
   "name": "python3"
  },
  "language_info": {
   "codemirror_mode": {
    "name": "ipython",
    "version": 3
   },
   "file_extension": ".py",
   "mimetype": "text/x-python",
   "name": "python",
   "nbconvert_exporter": "python",
   "pygments_lexer": "ipython3",
   "version": "3.7.8"
  }
 },
 "nbformat": 4,
 "nbformat_minor": 4
}
