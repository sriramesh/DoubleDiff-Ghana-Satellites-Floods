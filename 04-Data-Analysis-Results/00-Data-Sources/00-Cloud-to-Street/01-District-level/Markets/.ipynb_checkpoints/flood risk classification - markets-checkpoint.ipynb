{
 "cells": [
  {
   "cell_type": "code",
   "execution_count": null,
   "metadata": {},
   "outputs": [],
   "source": [
    "import pandas as pd\n",
    "from os import listdir\n",
    "from os.path import isfile, join\n",
    "import pathlib\n"
   ]
  },
  {
   "cell_type": "code",
   "execution_count": null,
   "metadata": {},
   "outputs": [],
   "source": [
    "# file paths and names\n",
    "path_input = '/Users/srilakshmi/Desktop/Thesis/Data/District-level/Flooded-Area/'\n",
    "name_input_file = 'District-level_Flooded_Area_Recurrence.csv'\n",
    "\n",
    "path_output = '/Users/srilakshmi/Desktop/Thesis/Treatment-Control-Assignment/Flood-Risk-Classification/'\n",
    "name_output_file = 'District_Flood_Risk_Classification_Flooded_Area.csv'\n"
   ]
  },
  {
   "cell_type": "code",
   "execution_count": null,
   "metadata": {},
   "outputs": [],
   "source": [
    "# add in zeroes column\n",
    "df = pd.read_csv(path_input+name_input_file, header=0)\n",
    "zeroes = [0] * len(df)\n",
    "df.insert(1, \"Zeroes\", zeroes, True)\n",
    "df"
   ]
  },
  {
   "cell_type": "code",
   "execution_count": null,
   "metadata": {},
   "outputs": [],
   "source": [
    "# calculate average impact per year for population\n",
    "return_periods = [2, 5, 10, 15, 20]\n",
    "avg_impact_per_year = []\n",
    "\n",
    "for i in range(0, len(df)):\n",
    "    marg_impact_per_year = [] # collect marginal impact per year to then sum up\n",
    "\n",
    "    for j in range(1, 6):\n",
    "        x = ( df.iloc[i, j+1] - df.iloc[i, j] ) / return_periods[j-1]\n",
    "        marg_impact_per_year.append(x)\n",
    "        \n",
    "    avg_impact_per_year.append(sum(marg_impact_per_year))\n"
   ]
  },
  {
   "cell_type": "code",
   "execution_count": null,
   "metadata": {},
   "outputs": [],
   "source": [
    "# add output to df\n",
    "flood_risk_classification = df[['Region']]\n",
    "colname = 'Avg Impact Per Year - Flooded Area'\n",
    "\n",
    "flood_risk_classification.insert(1,colname, avg_impact_per_year, True)\n",
    "flood_risk_classification = flood_risk_classification.sort_values(colname) # sort from low to high avg impact per year\n",
    "flood_risk_classification\n"
   ]
  },
  {
   "cell_type": "code",
   "execution_count": null,
   "metadata": {},
   "outputs": [],
   "source": [
    "# save file to disk\n",
    "\n",
    "flood_risk_classification.to_csv(path_output+name_output_file, index = False, header=True)"
   ]
  }
 ],
 "metadata": {
  "kernelspec": {
   "display_name": "Python 3",
   "language": "python",
   "name": "python3"
  },
  "language_info": {
   "codemirror_mode": {
    "name": "ipython",
    "version": 3
   },
   "file_extension": ".py",
   "mimetype": "text/x-python",
   "name": "python",
   "nbconvert_exporter": "python",
   "pygments_lexer": "ipython3",
   "version": "3.7.8"
  }
 },
 "nbformat": 4,
 "nbformat_minor": 4
}
