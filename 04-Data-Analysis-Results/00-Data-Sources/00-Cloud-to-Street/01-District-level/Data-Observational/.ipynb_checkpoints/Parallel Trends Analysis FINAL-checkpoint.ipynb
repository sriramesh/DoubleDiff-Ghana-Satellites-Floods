{
 "cells": [
  {
   "cell_type": "code",
   "execution_count": 11,
   "metadata": {},
   "outputs": [],
   "source": [
    "import pandas as pd\n",
    "\n",
    "# load data ----\n",
    "path_input_groups = '/Users/srilakshmi/Desktop/Thesis/04-Data-Analysis-Results/01-TC-Assignment/'\n",
    "name_input_file_groups = 'Adm2_TC_Assignment_Recurrence.csv'\n",
    "# path_input = '/Users/srilakshmi/Desktop/Thesis/04-Data-Analysis-Results/01-TC-Assignment/'\n",
    "# name_input_file = 'Final_Adm2_TC_Assignment.csv'\n",
    "\n",
    "path_input_outcomevar = '/Users/srilakshmi/Desktop/Thesis/04-Data-Analysis-Results/01-TC-Assignment/'\n",
    "name_input_file_outcomevar = 'data.csv'\n",
    "#path_input = '/Users/srilakshmi/Desktop/Thesis/04-Data-Analysis-Results/00-Data-Sources/00-Cloud-to-Street/01-District-level/Data-Observational/'\n",
    "#name_input_file = 'Ghana_Stats_Rec_v2.csv'\n",
    "\n",
    "path_output = '/Users/srilakshmi/Desktop/Thesis/04-Data-Analysis-Results/02-Parallel-Trends-Analysis/'\n",
    "name_output_file = 'Final_Endline_Data.csv'\n",
    "\n"
   ]
  },
  {
   "cell_type": "code",
   "execution_count": 17,
   "metadata": {},
   "outputs": [],
   "source": [
    "# load data\n",
    "assigned = pd.read_csv(path_input_groups+name_input_file_groups)\n",
    "\n",
    "var = 'perc_floodarea' # perc_pop, perc_floodarea\n",
    "df = pd.read_csv(path_input_outcomevar+name_input_file_outcomevar)\n",
    "dfx = df[df['year'] < 2021]\n",
    "dfx = dfx[dfx['year'] >= 2015]\n",
    "x = assigned.merge(dfx, left_on='Region', right_on='admin2name')\n",
    "\n",
    "treatment = x[x['Treatment'] == 0].groupby('year').mean()\n",
    "control = x[x['Treatment'] == 1].groupby('year').mean()"
   ]
  },
  {
   "cell_type": "code",
   "execution_count": 9,
   "metadata": {},
   "outputs": [
    {
     "data": {
      "text/plain": [
       "<matplotlib.axes._subplots.AxesSubplot at 0x7ffa0e695190>"
      ]
     },
     "execution_count": 9,
     "metadata": {},
     "output_type": "execute_result"
    },
    {
     "data": {
      "image/png": "[encoded data removed]",
      "text/plain": [
       "<Figure size 720x432 with 1 Axes>"
      ]
     },
     "metadata": {
      "needs_background": "light"
     },
     "output_type": "display_data"
    }
   ],
   "source": [
    "import matplotlib.pyplot as plt\n",
    "import seaborn as sns\n",
    "\n",
    "sns.set_context(\"talk\")\n",
    "fig, ax = plt.subplots(figsize=(10, 6))\n",
    "sns.lineplot(x = treatment.index, y = treatment[var], label='Treatment',color='b')\n",
    "\n",
    "sns.lineplot(x = control.index, y = control[var], label='Control', color='r')\n",
    "plt.title('Avg % Population that is Flood-Affected Over Time')\n",
    "plt.xlabel('Year')\n",
    "plt.ylabel('Avg % Population, Flood-Affected')\n",
    "\n",
    "plt.axvline(2018, color='pink') # plot vertical line corresponding to treatment year\n",
    "plt.axvline(2020, color='firebrick')\n",
    "\n",
    "ymin, ymax = ax.get_ylim() # get yaxis range to label vertical lines in an appropriate location\n",
    "\n",
    "plt.text(2018, (ymax - ymin)*0.2, 'Prgm Start')\n",
    "plt.text(2020, (ymax - ymin)*0.2, 'Prgm End')\n",
    "\n",
    "plt.legend(loc='best')"
   ]
  },
  {
   "cell_type": "code",
   "execution_count": 4,
   "metadata": {},
   "outputs": [],
   "source": [
    "x = x[['Region', 'Treatment', 'year', 'perc_pop']]\n",
    "\n",
    "x.to_csv(path_output+name_output_file, index = False)"
   ]
  },
  {
   "cell_type": "code",
   "execution_count": null,
   "metadata": {},
   "outputs": [],
   "source": []
  }
 ],
 "metadata": {
  "kernelspec": {
   "display_name": "Python 3",
   "language": "python",
   "name": "python3"
  },
  "language_info": {
   "codemirror_mode": {
    "name": "ipython",
    "version": 3
   },
   "file_extension": ".py",
   "mimetype": "text/x-python",
   "name": "python",
   "nbconvert_exporter": "python",
   "pygments_lexer": "ipython3",
   "version": "3.7.8"
  }
 },
 "nbformat": 4,
 "nbformat_minor": 4
}
