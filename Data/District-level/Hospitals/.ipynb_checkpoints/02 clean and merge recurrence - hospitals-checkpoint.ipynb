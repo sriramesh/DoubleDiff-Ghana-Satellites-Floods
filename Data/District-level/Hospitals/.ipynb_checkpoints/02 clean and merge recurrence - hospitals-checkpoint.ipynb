{
 "cells": [
  {
   "cell_type": "code",
   "execution_count": 1,
   "metadata": {},
   "outputs": [],
   "source": [
    "import pandas as pd\n",
    "from os import listdir\n",
    "from os.path import isfile, join\n",
    "import pathlib\n",
    "import sys\n",
    "\n",
    "# insert at 1, 0 is the script path (or '' in REPL)\n",
    "path_mod = '/Users/srilakshmi/Desktop/Thesis/Data/District-level/'\n",
    "sys.path.insert(1, path_mod)\n",
    "\n",
    "import clean\n"
   ]
  },
  {
   "cell_type": "code",
   "execution_count": 6,
   "metadata": {},
   "outputs": [],
   "source": [
    "# file paths and file names\n",
    "path_input = '/Users/srilakshmi/Desktop/Thesis/Data/District-level/Hospitals/Data-Recurrence/'\n",
    "path_output = '/Users/srilakshmi/Desktop/Thesis/Data/District-level/Hospitals/Output/'\n",
    "name_output_file = 'District-level_Hospitals_Recurrence.csv'\n",
    "\n",
    "col_name_old = 'Hospitals Impacted'\n",
    "\n",
    "recur_left = 45\n",
    "recur_right = 51\n"
   ]
  },
  {
   "cell_type": "code",
   "execution_count": 7,
   "metadata": {},
   "outputs": [],
   "source": [
    "# # data cleaning functions\n",
    "\n",
    "# def clean_csv_recurrence(string):\n",
    "    \n",
    "#     df = pd.read_csv(name_folder_input+string, header=0)\n",
    "#     df = df.drop_duplicates()\n",
    "#     df = df.rename(columns={col_name_old: string[45:51]})\n",
    "#     df = df.sort_values(by=['Region'])\n",
    "\n",
    "#     return df\n",
    "\n",
    "# def special_merge(left,right):\n",
    "#     merged = left.set_index('Region').join(right.set_index('Region')) # merged file 0 and file 1 together    \n",
    "#     merged.index.name = 'Region'\n",
    "#     merged.reset_index(inplace=True)\n",
    "    \n",
    "#     return merged\n"
   ]
  },
  {
   "cell_type": "code",
   "execution_count": 8,
   "metadata": {},
   "outputs": [
    {
     "data": {
      "text/plain": [
       "['Hospitals Impacted in Ghana Ghana_Recurrence_02Year.csv',\n",
       " 'Hospitals Impacted in Ghana Ghana_Recurrence_05Year.csv',\n",
       " 'Hospitals Impacted in Ghana Ghana_Recurrence_10Year.csv',\n",
       " 'Hospitals Impacted in Ghana Ghana_Recurrence_15Year.csv',\n",
       " 'Hospitals Impacted in Ghana Ghana_Recurrence_20Year.csv']"
      ]
     },
     "execution_count": 8,
     "metadata": {},
     "output_type": "execute_result"
    }
   ],
   "source": [
    "# get list of file names\n",
    "files = [f for f in listdir(path_input) if isfile(join(path_input, f))]\n",
    "files.sort(reverse = False)\n",
    "files\n"
   ]
  },
  {
   "cell_type": "code",
   "execution_count": 9,
   "metadata": {},
   "outputs": [
    {
     "data": {
      "text/plain": [
       "'02Year'"
      ]
     },
     "execution_count": 9,
     "metadata": {},
     "output_type": "execute_result"
    }
   ],
   "source": [
    "string = files[0]\n",
    "string[recur_left:recur_right]"
   ]
  },
  {
   "cell_type": "code",
   "execution_count": 11,
   "metadata": {},
   "outputs": [
    {
     "data": {
      "text/html": [
       "<div>\n",
       "<style scoped>\n",
       "    .dataframe tbody tr th:only-of-type {\n",
       "        vertical-align: middle;\n",
       "    }\n",
       "\n",
       "    .dataframe tbody tr th {\n",
       "        vertical-align: top;\n",
       "    }\n",
       "\n",
       "    .dataframe thead th {\n",
       "        text-align: right;\n",
       "    }\n",
       "</style>\n",
       "<table border=\"1\" class=\"dataframe\">\n",
       "  <thead>\n",
       "    <tr style=\"text-align: right;\">\n",
       "      <th></th>\n",
       "      <th>Region</th>\n",
       "      <th>02Year</th>\n",
       "      <th>05Year</th>\n",
       "      <th>10Year</th>\n",
       "      <th>15Year</th>\n",
       "      <th>20Year</th>\n",
       "    </tr>\n",
       "  </thead>\n",
       "  <tbody>\n",
       "    <tr>\n",
       "      <th>0</th>\n",
       "      <td>Abura / Asebu / Kwamankese</td>\n",
       "      <td>0</td>\n",
       "      <td>0</td>\n",
       "      <td>0</td>\n",
       "      <td>0</td>\n",
       "      <td>0</td>\n",
       "    </tr>\n",
       "    <tr>\n",
       "      <th>1</th>\n",
       "      <td>Accra Metropolis</td>\n",
       "      <td>0</td>\n",
       "      <td>0</td>\n",
       "      <td>0</td>\n",
       "      <td>0</td>\n",
       "      <td>0</td>\n",
       "    </tr>\n",
       "    <tr>\n",
       "      <th>2</th>\n",
       "      <td>Ada East</td>\n",
       "      <td>0</td>\n",
       "      <td>0</td>\n",
       "      <td>0</td>\n",
       "      <td>0</td>\n",
       "      <td>0</td>\n",
       "    </tr>\n",
       "    <tr>\n",
       "      <th>3</th>\n",
       "      <td>Ada West</td>\n",
       "      <td>0</td>\n",
       "      <td>0</td>\n",
       "      <td>0</td>\n",
       "      <td>0</td>\n",
       "      <td>0</td>\n",
       "    </tr>\n",
       "    <tr>\n",
       "      <th>4</th>\n",
       "      <td>Adaklu</td>\n",
       "      <td>0</td>\n",
       "      <td>0</td>\n",
       "      <td>0</td>\n",
       "      <td>0</td>\n",
       "      <td>0</td>\n",
       "    </tr>\n",
       "    <tr>\n",
       "      <th>...</th>\n",
       "      <td>...</td>\n",
       "      <td>...</td>\n",
       "      <td>...</td>\n",
       "      <td>...</td>\n",
       "      <td>...</td>\n",
       "      <td>...</td>\n",
       "    </tr>\n",
       "    <tr>\n",
       "      <th>211</th>\n",
       "      <td>West Gonja</td>\n",
       "      <td>0</td>\n",
       "      <td>0</td>\n",
       "      <td>0</td>\n",
       "      <td>0</td>\n",
       "      <td>0</td>\n",
       "    </tr>\n",
       "    <tr>\n",
       "      <th>212</th>\n",
       "      <td>West Mamprusi</td>\n",
       "      <td>0</td>\n",
       "      <td>0</td>\n",
       "      <td>0</td>\n",
       "      <td>0</td>\n",
       "      <td>0</td>\n",
       "    </tr>\n",
       "    <tr>\n",
       "      <th>213</th>\n",
       "      <td>Yendi Municipal</td>\n",
       "      <td>0</td>\n",
       "      <td>0</td>\n",
       "      <td>0</td>\n",
       "      <td>0</td>\n",
       "      <td>0</td>\n",
       "    </tr>\n",
       "    <tr>\n",
       "      <th>214</th>\n",
       "      <td>Yilo Krobo</td>\n",
       "      <td>0</td>\n",
       "      <td>0</td>\n",
       "      <td>0</td>\n",
       "      <td>0</td>\n",
       "      <td>0</td>\n",
       "    </tr>\n",
       "    <tr>\n",
       "      <th>215</th>\n",
       "      <td>Zabzugu</td>\n",
       "      <td>0</td>\n",
       "      <td>0</td>\n",
       "      <td>0</td>\n",
       "      <td>0</td>\n",
       "      <td>0</td>\n",
       "    </tr>\n",
       "  </tbody>\n",
       "</table>\n",
       "<p>216 rows × 6 columns</p>\n",
       "</div>"
      ],
      "text/plain": [
       "                         Region  02Year  05Year  10Year  15Year  20Year\n",
       "0    Abura / Asebu / Kwamankese       0       0       0       0       0\n",
       "1              Accra Metropolis       0       0       0       0       0\n",
       "2                      Ada East       0       0       0       0       0\n",
       "3                      Ada West       0       0       0       0       0\n",
       "4                        Adaklu       0       0       0       0       0\n",
       "..                          ...     ...     ...     ...     ...     ...\n",
       "211                  West Gonja       0       0       0       0       0\n",
       "212               West Mamprusi       0       0       0       0       0\n",
       "213             Yendi Municipal       0       0       0       0       0\n",
       "214                  Yilo Krobo       0       0       0       0       0\n",
       "215                     Zabzugu       0       0       0       0       0\n",
       "\n",
       "[216 rows x 6 columns]"
      ]
     },
     "execution_count": 11,
     "metadata": {},
     "output_type": "execute_result"
    }
   ],
   "source": [
    "# merge files\n",
    "for i in range(0, 1):\n",
    "    x = clean.clean_csv_recurrence(path_input, files[i], col_name_old, recur_left, recur_right)\n",
    "    y = clean.clean_csv_recurrence(path_input, files[i+1], col_name_old, recur_left, recur_right)\n",
    "    merged = clean.special_merge(left = x, right = y)\n",
    "    \n",
    "for i in range(2, 5):\n",
    "    z = clean.clean_csv_recurrence(path_input, files[i], col_name_old, recur_left, recur_right)\n",
    "    merged = clean.special_merge(left = merged, right = z)\n",
    "    i += 1\n",
    "\n",
    "merged"
   ]
  },
  {
   "cell_type": "code",
   "execution_count": 36,
   "metadata": {},
   "outputs": [],
   "source": [
    "# save file to disk\n",
    "\n",
    "merged.to_csv(path_output+name_output_file, index = False, header=True)\n"
   ]
  },
  {
   "cell_type": "code",
   "execution_count": null,
   "metadata": {},
   "outputs": [],
   "source": []
  },
  {
   "cell_type": "code",
   "execution_count": null,
   "metadata": {},
   "outputs": [],
   "source": []
  }
 ],
 "metadata": {
  "kernelspec": {
   "display_name": "Python 3",
   "language": "python",
   "name": "python3"
  },
  "language_info": {
   "codemirror_mode": {
    "name": "ipython",
    "version": 3
   },
   "file_extension": ".py",
   "mimetype": "text/x-python",
   "name": "python",
   "nbconvert_exporter": "python",
   "pygments_lexer": "ipython3",
   "version": "3.7.8"
  }
 },
 "nbformat": 4,
 "nbformat_minor": 4
}
