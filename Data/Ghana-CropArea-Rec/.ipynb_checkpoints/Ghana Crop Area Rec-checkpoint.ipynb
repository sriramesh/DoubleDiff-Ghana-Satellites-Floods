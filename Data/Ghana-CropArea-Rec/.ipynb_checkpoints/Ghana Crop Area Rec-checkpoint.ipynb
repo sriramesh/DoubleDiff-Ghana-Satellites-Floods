{
 "cells": [
  {
   "cell_type": "code",
   "execution_count": null,
   "metadata": {},
   "outputs": [],
   "source": [
    "import pandas as pd\n",
    "import numpy as np\n",
    "\n",
    "# file paths and file names\n",
    "path_input = '/Users/srilakshmi/Desktop/Thesis/Data/Ghana-CropArea-Rec/'\n",
    "\n",
    "# load data -----\n",
    "\n",
    "file = 'Ghana_CropArea_Rec.csv'\n",
    "\n",
    "pd.read_csv(path_input+file)\n",
    "\n",
    "# path_output = '/Users/srilakshmi/Desktop/Thesis/Data/District-level/Crops/Output/'\n",
    "# name_output_file = 'District-level_Crops_NRT.csv'\n"
   ]
  }
 ],
 "metadata": {
  "kernelspec": {
   "display_name": "Python 3",
   "language": "python",
   "name": "python3"
  },
  "language_info": {
   "codemirror_mode": {
    "name": "ipython",
    "version": 3
   },
   "file_extension": ".py",
   "mimetype": "text/x-python",
   "name": "python",
   "nbconvert_exporter": "python",
   "pygments_lexer": "ipython3",
   "version": "3.7.8"
  }
 },
 "nbformat": 4,
 "nbformat_minor": 4
}
