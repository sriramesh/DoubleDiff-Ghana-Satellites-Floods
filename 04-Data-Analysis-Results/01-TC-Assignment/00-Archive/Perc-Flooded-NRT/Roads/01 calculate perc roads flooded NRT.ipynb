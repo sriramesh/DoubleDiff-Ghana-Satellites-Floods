{
 "cells": [
  {
   "cell_type": "code",
   "execution_count": 9,
   "metadata": {},
   "outputs": [
    {
     "data": {
      "text/plain": [
       "'|__Total_Population'"
      ]
     },
     "execution_count": 9,
     "metadata": {},
     "output_type": "execute_result"
    }
   ],
   "source": [
    "import pandas as pd\n",
    "import matplotlib.pyplot as plt\n",
    "\n",
    "# file paths and names\n",
    "path_input = '/Users/srilakshmi/Desktop/Thesis/04-Data-Analysis-Results/00-Data-Sources/00-Cloud-to-Street/01-District-level/Totals/'\n",
    "name_input_file = 'Impacts-Ghana_MaxFlood_20200715_20201014.csv'\n",
    "\n",
    "path_output = '/Users/srilakshmi/Desktop/Thesis/04-Data-Analysis-Results/01-TC-Assignment/Perc-Flooded-NRT/Roads/'\n",
    "\n",
    "name_output_file = 'Perc_Roads_Flooded.csv'\n",
    "\n",
    "tot_pop = pd.read_csv(path_input+name_input_file, header=0)\n",
    "tot_pop\n",
    "\n",
    "colnames = []\n",
    "for col in tot_pop.columns:\n",
    "    colnames.append(col)\n",
    "\n",
    "#colnames[2]\n",
    "tot_pop = tot_pop.dropna(subset=[colnames[2]])\n",
    "tot_pop = tot_pop[[colnames[1], colnames[2], colnames[6]]]\n",
    "# tot_pop = tot_pop.rename(columns={colnames[1]: \"Region\", colnames[2]: \"Total Pop\", colnames[6]: \"Flooded Pop\"})\n",
    "# tot_pop['Perc Population Flooded'] = list(tot_pop['Flooded Pop']/tot_pop['Total Pop'])\n",
    "\n",
    "# tot_pop = tot_pop.drop(columns=['Total Pop', 'Flooded Pop'])\n",
    "# tot_pop = tot_pop.sort_values(by=['Region'])\n",
    "\n",
    "# tot_pop\n"
   ]
  }
 ],
 "metadata": {
  "kernelspec": {
   "display_name": "Python 3",
   "language": "python",
   "name": "python3"
  },
  "language_info": {
   "codemirror_mode": {
    "name": "ipython",
    "version": 3
   },
   "file_extension": ".py",
   "mimetype": "text/x-python",
   "name": "python",
   "nbconvert_exporter": "python",
   "pygments_lexer": "ipython3",
   "version": "3.7.8"
  }
 },
 "nbformat": 4,
 "nbformat_minor": 4
}
